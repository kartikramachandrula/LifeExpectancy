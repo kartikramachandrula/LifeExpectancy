{
 "cells": [
  {
   "cell_type": "code",
   "execution_count": 8,
   "metadata": {},
   "outputs": [],
   "source": [
    "#Importing Data\n",
    "\n",
    "from sklearn.model_selection import train_test_split\n",
    "import pandas as pd\n",
    "import os\n",
    "\n",
    "\n",
    "base_path = os.path.abspath(os.path.join('..'))\n",
    "file_path = os.path.join(base_path, 'datasets', 'cleaned_life_expectancy_data.csv')\n",
    "cleaned = pd.read_csv(file_path)\n",
    "\n",
    "X = cleaned.drop(columns=['Life Expectancy'])\n",
    "y = cleaned['Life Expectancy']\n",
    "X_train, X_test, y_train, y_test = train_test_split(X, y, test_size=0.3, random_state=42)"
   ]
  },
  {
   "cell_type": "code",
   "execution_count": 9,
   "metadata": {},
   "outputs": [
    {
     "name": "stdout",
     "output_type": "stream",
     "text": [
      "Best Number of Estimators: 28\n",
      "Best Mean Squared Error: 12.374984230613748\n",
      "Best R^2 Score: 0.8669563980763106\n"
     ]
    }
   ],
   "source": [
    "# Training with different number of estimators\n",
    "\n",
    "from sklearn.ensemble import AdaBoostRegressor\n",
    "from sklearn.metrics import mean_squared_error, r2_score\n",
    "\n",
    "results = {}\n",
    "\n",
    "for n_estimators in range(1, 501):\n",
    "    adaboost = AdaBoostRegressor(n_estimators=n_estimators, random_state=42)\n",
    "    adaboost.fit(X_train, y_train)\n",
    "    y_pred = adaboost.predict(X_test)\n",
    "    \n",
    "    mse = mean_squared_error(y_test, y_pred)\n",
    "    r2 = r2_score(y_test, y_pred)\n",
    "    \n",
    "    results[n_estimators] = {\n",
    "        'mse': mse,\n",
    "        'r2': r2\n",
    "    }\n",
    "\n",
    "best_n_estimators = max(results, key=lambda k: results[k]['r2'])\n",
    "best_result = results[best_n_estimators]\n",
    "\n",
    "print(f\"Best Number of Estimators: {best_n_estimators}\")\n",
    "print(f\"Best Mean Squared Error: {best_result['mse']}\")\n",
    "print(f\"Best R^2 Score: {best_result['r2']}\")"
   ]
  },
  {
   "cell_type": "code",
   "execution_count": 10,
   "metadata": {},
   "outputs": [
    {
     "name": "stdout",
     "output_type": "stream",
     "text": [
      "Mean Squared Error: 12.374984230613748\n",
      "R^2 Score: 0.8669563980763106\n",
      "Mean 5-Fold Cross-Validation MSE Score: 13.366323060636978\n"
     ]
    }
   ],
   "source": [
    "adaboost = AdaBoostRegressor(n_estimators=28, random_state=42)\n",
    "adaboost.fit(X_train, y_train)\n",
    "y_pred = adaboost.predict(X_test)\n",
    "\n",
    "from sklearn.metrics import mean_squared_error, r2_score\n",
    "from sklearn.model_selection import cross_val_score\n",
    "\n",
    "mse = mean_squared_error(y_test, y_pred)\n",
    "print(f\"Mean Squared Error: {mse}\")\n",
    "\n",
    "r2 = r2_score(y_test, y_pred)\n",
    "print(f\"R^2 Score: {r2}\")\n",
    "\n",
    "cv_scores = -cross_val_score(adaboost, X, y, cv=10, scoring='neg_mean_squared_error')\n",
    "print(f\"Mean 5-Fold Cross-Validation MSE Score: {cv_scores.mean()}\")"
   ]
  },
  {
   "cell_type": "code",
   "execution_count": 11,
   "metadata": {},
   "outputs": [
    {
     "name": "stdout",
     "output_type": "stream",
     "text": [
      "Random Forest Mean Squared Error: 2.47289238773242\n",
      "Random Forest R^2 Score: 0.9734139046723232\n",
      "Random Forest Mean 10-Fold Cross-Validation MSE Score: 2.1309548019939895\n",
      "Best Number of Estimators for Random Forest: 101\n",
      "Best Random Forest Mean Squared Error: 2.4798932736359345\n",
      "Best Random Forest R^2 Score: 0.9733386380651177\n",
      "Best Random Forest Cross-Validation MSE: 2.129160280988951\n"
     ]
    }
   ],
   "source": [
    "from sklearn.ensemble import RandomForestRegressor\n",
    "\n",
    "# Train the Random Forest Regressor\n",
    "random_forest = RandomForestRegressor(n_estimators=100, random_state=42)\n",
    "random_forest.fit(X_train, y_train)\n",
    "y_pred_rf = random_forest.predict(X_test)\n",
    "\n",
    "# Calculate metrics\n",
    "mse_rf = mean_squared_error(y_test, y_pred_rf)\n",
    "print(f\"Random Forest Mean Squared Error: {mse_rf}\")\n",
    "\n",
    "r2_rf = r2_score(y_test, y_pred_rf)\n",
    "print(f\"Random Forest R^2 Score: {r2_rf}\")\n",
    "\n",
    "cv_scores_rf = -cross_val_score(random_forest, X, y, cv=10, scoring='neg_mean_squared_error')\n",
    "print(f\"Random Forest Mean 10-Fold Cross-Validation MSE Score: {cv_scores_rf.mean()}\")\n",
    "\n",
    "results_rf = {}\n",
    "\n",
    "for n_estimators in range(1, 501, 50):\n",
    "    rf = RandomForestRegressor(n_estimators=n_estimators, random_state=42)\n",
    "    rf.fit(X_train, y_train)\n",
    "    y_pred_rf = rf.predict(X_test)\n",
    "    \n",
    "    mse_rf = mean_squared_error(y_test, y_pred_rf)\n",
    "    r2_rf = r2_score(y_test, y_pred_rf)\n",
    "    \n",
    "    results_rf[n_estimators] = {\n",
    "        'mse': mse_rf,\n",
    "        'r2': r2_rf,\n",
    "        'cv_mse': -cross_val_score(rf, X, y, cv=10, scoring='neg_mean_squared_error').mean()\n",
    "    }\n",
    "\n",
    "best_n_estimators_rf = max(results_rf, key=lambda k: results_rf[k]['r2'])\n",
    "best_result_rf = results_rf[best_n_estimators_rf]\n",
    "\n",
    "print(f\"Best Number of Estimators for Random Forest: {best_n_estimators_rf}\")\n",
    "print(f\"Best Random Forest Mean Squared Error: {best_result_rf['mse']}\")\n",
    "print(f\"Best Random Forest R^2 Score: {best_result_rf['r2']}\")\n",
    "print(f\"Best Random Forest Cross-Validation MSE: {best_result_rf['cv_mse']}\")"
   ]
  },
  {
   "cell_type": "code",
   "execution_count": null,
   "metadata": {},
   "outputs": [],
   "source": []
  }
 ],
 "metadata": {
  "kernelspec": {
   "display_name": ".venv",
   "language": "python",
   "name": "python3"
  },
  "language_info": {
   "codemirror_mode": {
    "name": "ipython",
    "version": 3
   },
   "file_extension": ".py",
   "mimetype": "text/x-python",
   "name": "python",
   "nbconvert_exporter": "python",
   "pygments_lexer": "ipython3",
   "version": "3.12.8"
  }
 },
 "nbformat": 4,
 "nbformat_minor": 2
}
