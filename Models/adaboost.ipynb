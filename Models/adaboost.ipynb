{
 "cells": [
  {
   "cell_type": "code",
   "execution_count": null,
   "metadata": {},
   "outputs": [],
   "source": [
    "#Importing Data\n",
    "\n",
    "from sklearn.model_selection import train_test_split\n",
    "import pandas as pd\n",
    "import os\n",
    "\n",
    "\n",
    "base_path = os.path.abspath(os.path.join('..'))\n",
    "file_path = os.path.join(base_path, 'datasets', 'cleaned_life_expectancy_data.csv')\n",
    "cleaned = pd.read_csv(file_path)\n",
    "\n",
    "X = cleaned.drop(columns=['Life Expectancy'])\n",
    "y = cleaned['Life Expectancy']\n",
    "X_train, X_test, y_train, y_test = train_test_split(X, y, test_size=0.3, random_state=42)"
   ]
  },
  {
   "cell_type": "code",
   "execution_count": null,
   "metadata": {},
   "outputs": [
    {
     "name": "stdout",
     "output_type": "stream",
     "text": [
      "Best Number of Estimators: 19\n",
      "Best Mean Squared Error: 21.267089258983436\n",
      "Best R^2 Score: 0.7713572716765045\n"
     ]
    }
   ],
   "source": [
    "# Training with different number of estimators\n",
    "\n",
    "from sklearn.ensemble import AdaBoostRegressor\n",
    "\n",
    "results = {}\n",
    "\n",
    "for n_estimators in range(1, 501):\n",
    "    adaboost = AdaBoostRegressor(n_estimators=n_estimators, random_state=42)\n",
    "    adaboost.fit(X_train, y_train)\n",
    "    y_pred = adaboost.predict(X_test)\n",
    "    \n",
    "    mse = mean_squared_error(y_test, y_pred)\n",
    "    r2 = r2_score(y_test, y_pred)\n",
    "    \n",
    "    results[n_estimators] = {\n",
    "        'mse': mse,\n",
    "        'r2': r2\n",
    "    }\n",
    "\n",
    "best_n_estimators = max(results, key=lambda k: results[k]['r2'])\n",
    "best_result = results[best_n_estimators]\n",
    "\n",
    "print(f\"Best Number of Estimators: {best_n_estimators}\")\n",
    "print(f\"Best Mean Squared Error: {best_result['mse']}\")\n",
    "print(f\"Best R^2 Score: {best_result['r2']}\")"
   ]
  },
  {
   "cell_type": "code",
   "execution_count": null,
   "metadata": {},
   "outputs": [
    {
     "name": "stdout",
     "output_type": "stream",
     "text": [
      "Mean Squared Error: 21.267089258983436\n",
      "R^2 Score: 0.7713572716765045\n",
      "Mean 10-Fold Cross-Validation MSE Score: 22.66319037331178\n"
     ]
    }
   ],
   "source": [
    "adaboost = AdaBoostRegressor(n_estimators=19, random_state=42)\n",
    "adaboost.fit(X_train, y_train)\n",
    "y_pred = adaboost.predict(X_test)\n",
    "\n",
    "from sklearn.metrics import mean_squared_error, r2_score\n",
    "from sklearn.model_selection import cross_val_score\n",
    "\n",
    "mse = mean_squared_error(y_test, y_pred)\n",
    "print(f\"Mean Squared Error: {mse}\")\n",
    "\n",
    "r2 = r2_score(y_test, y_pred)\n",
    "print(f\"R^2 Score: {r2}\")\n",
    "\n",
    "cv_scores = -cross_val_score(adaboost, X, y, cv=5, scoring='neg_mean_squared_error')\n",
    "print(f\"Mean 5-Fold Cross-Validation MSE Score: {cv_scores.mean()}\")"
   ]
  },
  {
   "cell_type": "code",
   "execution_count": 18,
   "metadata": {},
   "outputs": [
    {
     "name": "stdout",
     "output_type": "stream",
     "text": [
      "Random Forest Mean Squared Error: 5.747902264300438\n",
      "Random Forest R^2 Score: 0.9382042347289574\n",
      "Random Forest Mean 10-Fold Cross-Validation MSE Score: 7.076091229005639\n"
     ]
    }
   ],
   "source": [
    "from sklearn.ensemble import RandomForestRegressor\n",
    "\n",
    "# Train the Random Forest Regressor\n",
    "random_forest = RandomForestRegressor(n_estimators=100, random_state=42)\n",
    "random_forest.fit(X_train, y_train)\n",
    "y_pred_rf = random_forest.predict(X_test)\n",
    "\n",
    "# Calculate metrics\n",
    "mse_rf = mean_squared_error(y_test, y_pred_rf)\n",
    "print(f\"Random Forest Mean Squared Error: {mse_rf}\")\n",
    "\n",
    "r2_rf = r2_score(y_test, y_pred_rf)\n",
    "print(f\"Random Forest R^2 Score: {r2_rf}\")\n",
    "\n",
    "cv_scores_rf = -cross_val_score(random_forest, X, y, cv=5, scoring='neg_mean_squared_error')\n",
    "print(f\"Random Forest Mean 10-Fold Cross-Validation MSE Score: {cv_scores_rf.mean()}\")"
   ]
  },
  {
   "cell_type": "code",
   "execution_count": null,
   "metadata": {},
   "outputs": [],
   "source": []
  }
 ],
 "metadata": {
  "kernelspec": {
   "display_name": ".venv",
   "language": "python",
   "name": "python3"
  },
  "language_info": {
   "codemirror_mode": {
    "name": "ipython",
    "version": 3
   },
   "file_extension": ".py",
   "mimetype": "text/x-python",
   "name": "python",
   "nbconvert_exporter": "python",
   "pygments_lexer": "ipython3",
   "version": "3.12.8"
  }
 },
 "nbformat": 4,
 "nbformat_minor": 2
}
